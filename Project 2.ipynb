{
 "cells": [
  {
   "cell_type": "markdown",
   "id": "c8e113da-86f5-44f8-9a13-6e4da14111f2",
   "metadata": {},
   "source": [
    "# Project 2: Hawkes Process\n",
    "# Group W: Khair Mohamed - El Firdoussi Aymane - Msik Ahmed Amine"
   ]
  },
  {
   "cell_type": "code",
   "execution_count": 78,
   "id": "bb00707c-d93c-4216-bf7a-cbd354243286",
   "metadata": {},
   "outputs": [],
   "source": [
    "import numpy as np\n",
    "import matplotlib.pyplot as plt\n",
    "import pandas as pd\n",
    "from datetime import datetime\n",
    "from scipy.optimize import minimize, root_scalar\n",
    "\n",
    "# All imports go here"
   ]
  },
  {
   "cell_type": "code",
   "execution_count": 37,
   "id": "4c90735e-e333-4c98-a417-1704fe170c21",
   "metadata": {},
   "outputs": [
    {
     "data": {
      "image/png": "[encoded data removed]",
      "text/plain": [
       "<Figure size 864x432 with 1 Axes>"
      ]
     },
     "metadata": {
      "needs_background": "light"
     },
     "output_type": "display_data"
    }
   ],
   "source": [
    "# Loading the data set\n",
    "df = pd.read_csv(\"PRC.csv\", sep=';')\n",
    "\n",
    "# Taking the dates of HACKs\n",
    "dff = df.loc[ df['Type of breach'] == \"HACK\", 'Date Made Public'] \n",
    "dff = dff.apply( lambda x:datetime.strptime(x, '%m/%d/%Y')) \n",
    "\n",
    "# Making the first date as 0\n",
    "debut = min(dff) \n",
    "dff = dff - debut\n",
    "dff = dff.apply(lambda x:x.days).sort_values()\n",
    "\n",
    "# Sorting by date\n",
    "l = np.asarray(dff)[1:]\n",
    "\n",
    "# Plotting the \n",
    "plt.figure(figsize = (12, 6))\n",
    "plt.scatter(l, 1 + np.arange(len(l)), s=0.1)\n",
    "plt.xlabel(\"days of occurence of a Hack\")\n",
    "plt.ylabel(\"Hack\")\n",
    "\n",
    "plt.show()"
   ]
  },
  {
   "cell_type": "markdown",
   "id": "cd13eebf-4bb8-40ad-951a-37edbe24384d",
   "metadata": {},
   "source": [
    "## Log-likelihood"
   ]
  },
  {
   "cell_type": "code",
   "execution_count": 54,
   "id": "9fdddb5c-75ed-4066-a227-e104bd96be5c",
   "metadata": {},
   "outputs": [],
   "source": [
    "def log_likelihood(T, t, alpha, beta, gamma):\n",
    "    logL = (1 - alpha) * t\n",
    "    i = 0\n",
    "    n = len(T)\n",
    "    while i < n and T[i] < t:\n",
    "        logL += beta * ( 1 - np.exp(-gamma * (t - T[i]))) /gamma\n",
    "        s = 0\n",
    "        for j in range(i):\n",
    "            s+= beta* np.exp(-gamma * (T[i] - T[j]))\n",
    "            \n",
    "        logL += np.log(alpha + s)\n",
    "        i += 1\n",
    "    return logL"
   ]
  },
  {
   "cell_type": "code",
   "execution_count": 52,
   "id": "57785e4f-df6a-4415-9f83-75627a80fcfd",
   "metadata": {},
   "outputs": [
    {
     "name": "stdout",
     "output_type": "stream",
     "text": [
      "4026.6054476769727\n"
     ]
    }
   ],
   "source": [
    "print(log_likelihood(l, 100000, 1, 1, 1))"
   ]
  },
  {
   "cell_type": "markdown",
   "id": "f13cb813-6d2e-4a4f-afad-70165a5c93d9",
   "metadata": {},
   "source": [
    "## Finding the parameters that maximize the log-likelihood"
   ]
  },
  {
   "cell_type": "markdown",
   "id": "28bbd70c-9101-470a-ac71-ba9da9851a90",
   "metadata": {},
   "source": [
    "Maximizing the log-likelihood is equivalent to minimizing the negative log-likelihood, i.e:\n",
    "\n",
    "$$ \\arg \\max_{\\alpha, \\beta, \\gamma} \\log(L(N, t)) =  \\arg \\min_{\\alpha, \\beta, \\gamma} \\: -\\log(L(N, t))  $$"
   ]
  },
  {
   "cell_type": "code",
   "execution_count": 118,
   "id": "354b2bfa-60b0-495e-affc-8bf6d41affe0",
   "metadata": {},
   "outputs": [],
   "source": [
    "# Function to minimize \n",
    "def negative_log_likelihood(param, T, t):\n",
    "    return  -log_likelihood(T, t, param[0], param[1], param[2])\n",
    "def log_likelihoodd(param):\n",
    "    return  -log_likelihood(l, 1000, param[0], param[1], param[2])"
   ]
  },
  {
   "cell_type": "code",
   "execution_count": 127,
   "id": "9a1bcf91-d322-4194-9afb-6e9a149d1d80",
   "metadata": {},
   "outputs": [
    {
     "name": "stdout",
     "output_type": "stream",
     "text": [
      "the optimal parameters are  [9.99999997e-07 1.77448242e+02 1.00000000e-06]\n",
      "the maximum is : 14535540.716243377\n"
     ]
    }
   ],
   "source": [
    "# Paramaters\n",
    "x0 = (100, 1, 1)\n",
    "epsilon = 1e-6\n",
    "T = l\n",
    "t = 1000\n",
    "\n",
    "# Optimization\n",
    "res = minimize(negative_log_likelihood, x0, method='SLSQP', args = (T, t), bounds = ((epsilon, None), (epsilon, None), (epsilon, None)) , tol = 1e-25)\n",
    "print(\"the optimal parameters are \",res.x)\n",
    "print(\"the maximum is :\", -negative_log_likelihood(res.x, T, t)) "
   ]
  },
  {
   "cell_type": "code",
   "execution_count": 130,
   "id": "a0ef6fa6-5de0-4fff-bc08-c9f83474cca6",
   "metadata": {},
   "outputs": [
    {
     "name": "stdout",
     "output_type": "stream",
     "text": [
      "the optimal parameters are  [9.99999997e-07 1.77448242e+02 1.00000000e-06]\n",
      "the maximum is : 14535540.716243377\n"
     ]
    }
   ],
   "source": [
    "# Paramaters\n",
    "x0 = (100, 1, 1)\n",
    "epsilon = 1e-6\n",
    "T = l\n",
    "t = 1000\n",
    "\n",
    "# Optimization\n",
    "res = minimize(negative_log_likelihood, x0, method='SLSQP', args = (T, t), bounds = ((epsilon, None), (epsilon, None), (epsilon, None)) , options= {'maxiter' : 10000000})\n",
    "print(\"the optimal parameters are \",res.x)\n",
    "print(\"the maximum is :\", -negative_log_likelihood(res.x, T, t)) "
   ]
  },
  {
   "cell_type": "code",
   "execution_count": 113,
   "id": "3dcdfe3d-9d34-426b-a2a7-644dcfa92fa7",
   "metadata": {},
   "outputs": [
    {
     "name": "stdout",
     "output_type": "stream",
     "text": [
      "the optimal parameters are  [1.15474741e-01 4.40997086e+04 1.00000000e-06]\n",
      "the maximum is : 88206.01559939048\n"
     ]
    }
   ],
   "source": [
    "# Optimization\n",
    "x0 = (1, 1, 1)\n",
    "epsilon = 1e-6\n",
    "res = minimize(log_likelihoodd, x0, method='SLSQP',  bounds = ((epsilon, None), (epsilon, None), (epsilon, None)) , tol=1e-6)\n",
    "print(\"the optimal parameters are \",res.x)\n",
    "print(\"the maximum is :\", -log_likelihoodd(res.x)) "
   ]
  },
  {
   "cell_type": "code",
   "execution_count": 109,
   "id": "277e368a-0902-4831-98ca-f347635163f2",
   "metadata": {},
   "outputs": [
    {
     "name": "stdout",
     "output_type": "stream",
     "text": [
      "the optimal parameters are  [1.81296832e-06 1.92384766e+02 2.69043153e-06]\n",
      "the maximum is : 15750549.387789845\n"
     ]
    }
   ],
   "source": [
    "x0 = (1, 10, 1)\n",
    "epsilon = 1e-6\n",
    "res = minimize(log_likelihoodd, x0, method='SLSQP',  bounds = ((epsilon, None), (epsilon, None), (epsilon, None)) , tol=1e-15)\n",
    "print(\"the optimal parameters are \",res.x)\n",
    "print(\"the maximum is :\", -log_likelihoodd(res.x)) "
   ]
  },
  {
   "cell_type": "code",
   "execution_count": 110,
   "id": "fe861b0a-3f58-4820-be8c-81a6d5f5c2c8",
   "metadata": {},
   "outputs": [
    {
     "name": "stdout",
     "output_type": "stream",
     "text": [
      "the optimal parameters are  [9.99999999e-07 2.88967285e+01 9.99999999e-07]\n",
      "the maximum is : 2368933.7167158555\n"
     ]
    }
   ],
   "source": [
    "x0 = (10, 10, 10)\n",
    "epsilon = 1e-6\n",
    "res = minimize(log_likelihoodd, x0, method='SLSQP',  bounds = ((epsilon, None), (epsilon, None), (epsilon, None)) , tol=1e-15)\n",
    "print(\"the optimal parameters are \",res.x)\n",
    "print(\"the maximum is :\", -log_likelihoodd(res.x)) "
   ]
  }
 ],
 "metadata": {
  "kernelspec": {
   "display_name": "Python 3 (ipykernel)",
   "language": "python",
   "name": "python3"
  },
  "language_info": {
   "codemirror_mode": {
    "name": "ipython",
    "version": 3
   },
   "file_extension": ".py",
   "mimetype": "text/x-python",
   "name": "python",
   "nbconvert_exporter": "python",
   "pygments_lexer": "ipython3",
   "version": "3.8.13"
  }
 },
 "nbformat": 4,
 "nbformat_minor": 5
}
